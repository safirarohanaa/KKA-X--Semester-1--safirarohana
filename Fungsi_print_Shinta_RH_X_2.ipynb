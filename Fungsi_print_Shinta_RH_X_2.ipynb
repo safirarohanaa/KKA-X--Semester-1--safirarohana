{
  "nbformat": 4,
  "nbformat_minor": 0,
  "metadata": {
    "colab": {
      "provenance": [],
      "include_colab_link": true
    },
    "kernelspec": {
      "name": "python3",
      "display_name": "Python 3"
    },
    "language_info": {
      "name": "python"
    }
  },
  "cells": [
    {
      "cell_type": "markdown",
      "metadata": {
        "id": "view-in-github",
        "colab_type": "text"
      },
      "source": [
        "<a href=\"https://colab.research.google.com/github/safirarohanaa/KKA-X--Semester-1--safirarohana/blob/main/Fungsi_print_Shinta_RH_X_2.ipynb\" target=\"_parent\"><img src=\"https://colab.research.google.com/assets/colab-badge.svg\" alt=\"Open In Colab\"/></a>"
      ]
    },
    {
      "cell_type": "markdown",
      "source": [
        "Nama: Shinta Roudlotul Hanafia\n",
        "\n",
        "Kelas: X.2\n",
        "\n",
        "Nomor absen: 29\n",
        "\n",
        "Mata pelajaran: KKA"
      ],
      "metadata": {
        "id": "vE8KxNwitqBO"
      }
    },
    {
      "cell_type": "markdown",
      "source": [
        "#Menampilkan Teks Bebas (String)"
      ],
      "metadata": {
        "id": "LCs7RZucunJM"
      }
    },
    {
      "cell_type": "code",
      "execution_count": null,
      "metadata": {
        "colab": {
          "base_uri": "https://localhost:8080/"
        },
        "id": "x1kdfG6es6Lk",
        "outputId": "63f70f28-1575-46bd-d953-dccf2af8a040"
      },
      "outputs": [
        {
          "output_type": "stream",
          "name": "stdout",
          "text": [
            "Halo world!\n"
          ]
        }
      ],
      "source": [
        "print(\"Halo world!\")"
      ]
    },
    {
      "cell_type": "markdown",
      "source": [
        "#Menampilkan Nilai Variabel"
      ],
      "metadata": {
        "id": "K2hUFHXCw0u8"
      }
    },
    {
      "cell_type": "code",
      "source": [
        "berat_badan = 50\n",
        "\n",
        "print(berat_badan)"
      ],
      "metadata": {
        "colab": {
          "base_uri": "https://localhost:8080/"
        },
        "id": "64fi7KBRw_q-",
        "outputId": "b262b052-0a59-4341-c944-2ad84d7b23af"
      },
      "execution_count": null,
      "outputs": [
        {
          "output_type": "stream",
          "name": "stdout",
          "text": [
            "50\n"
          ]
        }
      ]
    },
    {
      "cell_type": "code",
      "source": [
        "print(\"berat_badan\")"
      ],
      "metadata": {
        "colab": {
          "base_uri": "https://localhost:8080/"
        },
        "id": "WSP1OBjGxnhS",
        "outputId": "dcb7dbca-2488-4dfe-caf0-80f523b67cc8"
      },
      "execution_count": null,
      "outputs": [
        {
          "output_type": "stream",
          "name": "stdout",
          "text": [
            "berat_badan\n"
          ]
        }
      ]
    },
    {
      "cell_type": "code",
      "source": [
        "Nama = \"Shinta Roudlotul Hanafia\"\n",
        "\n",
        "print(Nama)"
      ],
      "metadata": {
        "colab": {
          "base_uri": "https://localhost:8080/"
        },
        "id": "CBo1oZwOxvwe",
        "outputId": "334cc0dd-99bd-49e9-bc43-3ed4459bf760"
      },
      "execution_count": null,
      "outputs": [
        {
          "output_type": "stream",
          "name": "stdout",
          "text": [
            "Shinta Roudlotul Hanafia\n"
          ]
        }
      ]
    },
    {
      "cell_type": "code",
      "source": [
        "print(\"Nama\")"
      ],
      "metadata": {
        "colab": {
          "base_uri": "https://localhost:8080/"
        },
        "id": "EKjQDEsfxyb4",
        "outputId": "10591132-a41b-4b99-9d01-d78d37e4f2ae"
      },
      "execution_count": null,
      "outputs": [
        {
          "output_type": "stream",
          "name": "stdout",
          "text": [
            "Nama\n"
          ]
        }
      ]
    },
    {
      "cell_type": "markdown",
      "source": [
        "#Menampilkan Teks Bebas dan Nilai Variabel"
      ],
      "metadata": {
        "id": "rlWiYd6zyq7i"
      }
    },
    {
      "cell_type": "code",
      "source": [
        "print(\"Berat badan saya adalah\", berat_badan, \"Kg.\")"
      ],
      "metadata": {
        "colab": {
          "base_uri": "https://localhost:8080/"
        },
        "id": "HaVFFvO9yu_1",
        "outputId": "274b472f-d212-420f-ac5e-16a6a3667d0a"
      },
      "execution_count": null,
      "outputs": [
        {
          "output_type": "stream",
          "name": "stdout",
          "text": [
            "Berat badan saya adalah 50 Kg.\n"
          ]
        }
      ]
    },
    {
      "cell_type": "code",
      "source": [
        "print(\"Perkenalkan nama saya,\", Nama,\".\")"
      ],
      "metadata": {
        "colab": {
          "base_uri": "https://localhost:8080/"
        },
        "id": "GSrb5Js3znRn",
        "outputId": "bb27c479-a123-450e-a770-566645e1ca36"
      },
      "execution_count": null,
      "outputs": [
        {
          "output_type": "stream",
          "name": "stdout",
          "text": [
            "Perkenalkan nama saya, Shinta Roudlotul Hanafia .\n"
          ]
        }
      ]
    },
    {
      "cell_type": "code",
      "source": [
        "print(\"Perkenalkan nama saya, \" + Nama + \".\")"
      ],
      "metadata": {
        "colab": {
          "base_uri": "https://localhost:8080/"
        },
        "id": "E43xsgW70n1C",
        "outputId": "805261be-0661-45d0-f3dc-572f29b2c413"
      },
      "execution_count": null,
      "outputs": [
        {
          "output_type": "stream",
          "name": "stdout",
          "text": [
            "Perkenalkan nama saya, Shinta Roudlotul Hanafia.\n"
          ]
        }
      ]
    },
    {
      "cell_type": "code",
      "source": [
        "print(\"Berat badan saya adalah \" + str(berat_badan) + \" Kg.\")"
      ],
      "metadata": {
        "colab": {
          "base_uri": "https://localhost:8080/"
        },
        "id": "0L-ELAHh1x9E",
        "outputId": "21078ded-813b-4ed7-935b-c061b68e22ca"
      },
      "execution_count": null,
      "outputs": [
        {
          "output_type": "stream",
          "name": "stdout",
          "text": [
            "Berat badan saya adalah 50 Kg.\n"
          ]
        }
      ]
    },
    {
      "cell_type": "code",
      "source": [
        "tinggi_badan = 170\n",
        "\n",
        "print(\"Tinggi badan saya adalah \" + str(tinggi_badan) + \" cm.\")"
      ],
      "metadata": {
        "colab": {
          "base_uri": "https://localhost:8080/"
        },
        "id": "SnHon-XQycpp",
        "outputId": "1aa1e779-7dd7-4533-866a-af4af1a5597d"
      },
      "execution_count": null,
      "outputs": [
        {
          "output_type": "stream",
          "name": "stdout",
          "text": [
            "Tinggi badan saya adalah 170 cm.\n"
          ]
        }
      ]
    },
    {
      "cell_type": "code",
      "source": [
        "print(f\"Perkenalkan nama saya {Nama}. Berat badan saya adalah {berat_badan} kg.\")"
      ],
      "metadata": {
        "colab": {
          "base_uri": "https://localhost:8080/"
        },
        "id": "aAJkZK2d25jP",
        "outputId": "02033a55-d45e-4f94-c759-e44b2d7103e3"
      },
      "execution_count": null,
      "outputs": [
        {
          "output_type": "stream",
          "name": "stdout",
          "text": [
            "Perkenalkan nama saya Shinta Roudlotul Hanafia. Berat badan saya adalah 50 kg.\n"
          ]
        }
      ]
    },
    {
      "cell_type": "code",
      "source": [
        "buah = \"apel\"\n",
        "jumlah_buah = 2\n",
        "\n",
        "print(\"Saya memiliki buah\",buah,\"sebanyak\",jumlah_buah,\"buah.\")"
      ],
      "metadata": {
        "colab": {
          "base_uri": "https://localhost:8080/"
        },
        "id": "rpMQv9veeURa",
        "outputId": "97092915-b6be-4f32-a478-25d84a8d7e6c"
      },
      "execution_count": null,
      "outputs": [
        {
          "output_type": "stream",
          "name": "stdout",
          "text": [
            "Saya memiliki buah apel sebanyak 2 buah.\n"
          ]
        }
      ]
    },
    {
      "cell_type": "code",
      "source": [
        "buah = \"apel\"\n",
        "jumlah_buah = 2\n",
        "\n",
        "print(\"Saya memiliki buah \"+buah+\" sebanyak \"+str(jumlah_buah)+\" buah.\")"
      ],
      "metadata": {
        "colab": {
          "base_uri": "https://localhost:8080/"
        },
        "id": "MHDknS9qe5dk",
        "outputId": "7eae7f66-dd78-4104-9fee-93cba84f7463"
      },
      "execution_count": null,
      "outputs": [
        {
          "output_type": "stream",
          "name": "stdout",
          "text": [
            "Saya memiliki buah apel sebanyak 2 buah.\n"
          ]
        }
      ]
    },
    {
      "cell_type": "markdown",
      "source": [
        "#Escape Character"
      ],
      "metadata": {
        "id": "KfI4tgGL0oWe"
      }
    },
    {
      "cell_type": "code",
      "source": [
        "print(\"Nama: Shinta Hanafia\")\n",
        "print(\"Kelas: X.2\")\n",
        "print(\"No. Absen: 29\")"
      ],
      "metadata": {
        "colab": {
          "base_uri": "https://localhost:8080/"
        },
        "id": "fHIjXyGw1gTY",
        "outputId": "8a933a65-ae99-4b38-9cfc-8853b78aa61f"
      },
      "execution_count": null,
      "outputs": [
        {
          "output_type": "stream",
          "name": "stdout",
          "text": [
            "Nama: Shinta Hanafia\n",
            "Kelas: X.2\n",
            "No. Absen: 29\n"
          ]
        }
      ]
    },
    {
      "cell_type": "code",
      "source": [
        "print(\"\"\"Nama: Shinta Hanafia\n",
        "Kelas: X.2\n",
        "No. Absen: 29\"\"\")"
      ],
      "metadata": {
        "colab": {
          "base_uri": "https://localhost:8080/"
        },
        "id": "Rze68sjI12uc",
        "outputId": "45c6c8d8-863b-4c86-d225-4d9d04f60ba1"
      },
      "execution_count": null,
      "outputs": [
        {
          "output_type": "stream",
          "name": "stdout",
          "text": [
            "Nama: Shinta Hanafia\n",
            "Kelas: X.2\n",
            "No. Absen: 29\n"
          ]
        }
      ]
    },
    {
      "cell_type": "code",
      "source": [
        "print(\"Nama\\t\\t: Shinta Hanafia\\nKelas\\t\\t: X.2\\nNo. Absen\\t: 29\")"
      ],
      "metadata": {
        "colab": {
          "base_uri": "https://localhost:8080/"
        },
        "id": "gJ9_ujOm098T",
        "outputId": "64bfaf31-de86-4227-ca3a-c3c562e76edf"
      },
      "execution_count": null,
      "outputs": [
        {
          "output_type": "stream",
          "name": "stdout",
          "text": [
            "Nama\t\t: Shinta Hanafia\n",
            "Kelas\t\t: X.2\n",
            "No. Absen\t: 29\n"
          ]
        }
      ]
    },
    {
      "cell_type": "code",
      "source": [
        "print('Nama\\t\\t: Ja\\'far shodiq\\nKelas\\t\\t: X.2\\nNo. Absen\\t: 29')"
      ],
      "metadata": {
        "colab": {
          "base_uri": "https://localhost:8080/"
        },
        "id": "CO2mUw1l5BQZ",
        "outputId": "99364ea6-6342-4e6a-a2f4-fef8867ef0af"
      },
      "execution_count": null,
      "outputs": [
        {
          "output_type": "stream",
          "name": "stdout",
          "text": [
            "Nama\t\t: Ja'far shodiq\n",
            "Kelas\t\t: X.2\n",
            "No. Absen\t: 29\n"
          ]
        }
      ]
    },
    {
      "cell_type": "code",
      "source": [
        "print(\"Nama\\t\\t: Ja'far shodiq\\nKelas\\t\\t: X.2\\nNo. Absen\\t: 29\")"
      ],
      "metadata": {
        "colab": {
          "base_uri": "https://localhost:8080/"
        },
        "id": "Vduf8rPv5Ybt",
        "outputId": "fcc0d46f-0979-48c5-c5a5-cbae1abb68b8"
      },
      "execution_count": null,
      "outputs": [
        {
          "output_type": "stream",
          "name": "stdout",
          "text": [
            "Nama\t\t: Ja'far shodiq\n",
            "Kelas\t\t: X.2\n",
            "No. Absen\t: 29\n"
          ]
        }
      ]
    },
    {
      "cell_type": "code",
      "source": [
        "print('Bu Shinta mengatakan \"Semua bisa dipelajari\"')"
      ],
      "metadata": {
        "colab": {
          "base_uri": "https://localhost:8080/"
        },
        "id": "re0kn2p95f3-",
        "outputId": "6186aab9-ad04-4a47-b33e-5b9e74559dc4"
      },
      "execution_count": null,
      "outputs": [
        {
          "output_type": "stream",
          "name": "stdout",
          "text": [
            "Bu Shinta mengatakan \"Semua bisa dipelajari\"\n"
          ]
        }
      ]
    },
    {
      "cell_type": "code",
      "source": [
        "print(\"Lokasi file tugas KKA: Local disk D:\\\\KKA\\\\Tugas\")"
      ],
      "metadata": {
        "colab": {
          "base_uri": "https://localhost:8080/"
        },
        "id": "YwUrAt6V5wTW",
        "outputId": "1b819af9-48ec-4620-81ee-f7194b02a28c"
      },
      "execution_count": null,
      "outputs": [
        {
          "output_type": "stream",
          "name": "stdout",
          "text": [
            "Lokasi file tugas KKA: Local disk D:\\KKA\\Tugas\n"
          ]
        }
      ]
    },
    {
      "cell_type": "code",
      "source": [
        "\"\"\"\n",
        "Latihan soal:\n",
        "\n",
        "Gunakan escape character!\n",
        "Tampilkan teks seperti di bawah ini:\n",
        "\n",
        "Bu Shinta berkata, \"Berikut adalah daftar piket harian kelas X.2 yang disimpan di file D:\\MAN Demak\\Jadwal Piket.\".\n",
        "\n",
        "Senin      Selasa      Rabu\n",
        "Jielo      Hasbi       Naufal\n",
        "Azam       A'inun        Nurul\n",
        "\"\"\""
      ],
      "metadata": {
        "id": "X4REjIts0QQA"
      },
      "execution_count": null,
      "outputs": []
    },
    {
      "cell_type": "markdown",
      "source": [
        "#Paramater Fungsi print"
      ],
      "metadata": {
        "id": "5GlR3vikzpuG"
      }
    },
    {
      "cell_type": "code",
      "source": [
        "nama_siswa_1 = \"Jielo\"\n",
        "nama_siswa_2 = \"Aida\"\n",
        "nama_siswa_3 = \"Dani\"\n",
        "\n",
        "print(nama_siswa_1, end=\"-\")\n",
        "print(nama_siswa_2, end=\"-\")\n",
        "print(nama_siswa_3)"
      ],
      "metadata": {
        "colab": {
          "base_uri": "https://localhost:8080/"
        },
        "id": "EtS3G8Luzuuq",
        "outputId": "6f4a5519-2139-4742-815a-b1062f901c83"
      },
      "execution_count": null,
      "outputs": [
        {
          "output_type": "stream",
          "name": "stdout",
          "text": [
            "Jielo-Aida-Dani\n"
          ]
        }
      ]
    },
    {
      "cell_type": "code",
      "source": [
        "\"\"\"\n",
        "Latihan:\n",
        "\n",
        "nama_siswa_1 = \"Jielo\"\n",
        "\n",
        "nama_siswa_2 = \"Aida\"\n",
        "\n",
        "nama_siswa_3 = \"Dani\"\n",
        "\n",
        "nama_siswa_4 = \"Nurul\"\n",
        "\n",
        "Tampilkan keluaran berupa:\n",
        "\n",
        "Nurul/Aida/Jielo/Dani\n",
        "\"\"\""
      ],
      "metadata": {
        "id": "DykzGKkr0ZPw"
      },
      "execution_count": null,
      "outputs": []
    },
    {
      "cell_type": "code",
      "source": [
        "nama_siswa_5 = \"Hasbi\"\n",
        "nama_siswa_6 = \"Habibi\"\n",
        "nama_siswa_7 = \"Rendra\"\n",
        "nama_siswa_8 = \"Naufal\"\n",
        "\n",
        "print(nama_siswa_8, nama_siswa_7, nama_siswa_5, nama_siswa_6, sep=\"-\")"
      ],
      "metadata": {
        "colab": {
          "base_uri": "https://localhost:8080/"
        },
        "id": "sdzhAQ583XBY",
        "outputId": "da914920-f003-4f7a-bdfd-1da05753dd02"
      },
      "execution_count": null,
      "outputs": [
        {
          "output_type": "stream",
          "name": "stdout",
          "text": [
            "Naufal-Rendra-Hasbi-Habibi\n"
          ]
        }
      ]
    },
    {
      "cell_type": "code",
      "source": [
        "\"\"\"\n",
        "Latihan:\n",
        "\n",
        "nama_siswa_5 = \"Hasbi\"\n",
        "\n",
        "nama_siswa_6 = \"Habibi\"\n",
        "\n",
        "nama_siswa_7 = \"Rendra\"\n",
        "\n",
        "nama_siswa_8 = \"Naufal\"\n",
        "\n",
        "Tampilkan keluaran berupa:\n",
        "\n",
        "Hasbi*Naufal*Rendra*Habibi*Naufal\n",
        "\"\"\""
      ],
      "metadata": {
        "id": "yaZ9_L0U0gsb"
      },
      "execution_count": null,
      "outputs": []
    }
  ]
}